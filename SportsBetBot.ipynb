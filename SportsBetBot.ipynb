{
 "cells": [
  {
   "cell_type": "markdown",
   "id": "ae8cbe58-4cd7-431e-accf-9c3f18b7ad6f",
   "metadata": {},
   "source": [
    "## Imports"
   ]
  },
  {
   "cell_type": "code",
   "execution_count": 18,
   "id": "bef456de-8104-4318-9769-2793b0e942fd",
   "metadata": {},
   "outputs": [],
   "source": [
    "import nbimporter\n",
    "import json\n",
    "import requests\n",
    "import time\n",
    "\n",
    "import undetected_chromedriver as webdriver\n",
    "from selenium.webdriver.common.by import By"
   ]
  },
  {
   "cell_type": "markdown",
   "id": "7d03ff13-9008-4ed1-828d-61c7cfd14a51",
   "metadata": {},
   "source": [
    "## Start"
   ]
  },
  {
   "cell_type": "code",
   "execution_count": 19,
   "id": "d1f37fab-24d4-4c7c-8aa3-acf5c0b71103",
   "metadata": {},
   "outputs": [],
   "source": [
    "#startup\n",
    "driver = webdriver.Chrome()\n",
    "driver.get(\"https://www.sportsbet.com.au/\")\n",
    "\n",
    "driver_bf = webdriver.Chrome()\n",
    "driver_bf.get(\"https://www.betfair.com.au/exchange/plus/\")"
   ]
  },
  {
   "cell_type": "markdown",
   "id": "3e8fd415-1a77-40fe-90b0-044b12201b08",
   "metadata": {},
   "source": [
    "## Login using Selenium"
   ]
  },
  {
   "cell_type": "code",
   "execution_count": null,
   "id": "8118c8a6-7431-4ad0-a85c-94eb916e4c32",
   "metadata": {
    "tags": []
   },
   "outputs": [],
   "source": [
    "####SPORTSBET\n",
    "time.sleep(5)\n",
    "driver.find_element(By.XPATH, \"//button[@data-automation-id='header-login-touchable']\").click()\n",
    "time.sleep(3)\n",
    "driver.find_element(By.XPATH, \"//input[@id='username']\").send_keys(\"\")\n",
    "driver.find_element(By.XPATH, \"//input[@id='password']\").send_keys(\"\")\n",
    "time.sleep(5)\n",
    "driver.find_element(By.XPATH,\"//div[@data-automation-id='login-button']\").click()\n",
    "\n",
    "####BETFAIR\n",
    "driver_bf.find_element(By.XPATH, \"//input[@id='ssc-liu']\").send_keys('')\n",
    "driver_bf.find_element(By.XPATH, \"//input[@id='ssc-lipw']\").send_keys(\"\")\n",
    "time.sleep(5)\n",
    "driver_bf.find_element(By.XPATH,\"//div[@id='ssc-lis']\").click()"
   ]
  },
  {
   "cell_type": "markdown",
   "id": "84ede301-4a1b-465e-9955-a315c0451eee",
   "metadata": {},
   "source": [
    "## Place Bet (Selenium)"
   ]
  },
  {
   "cell_type": "code",
   "execution_count": 21,
   "id": "e55a4aaa-6ec0-4c92-8804-3e553da73ed2",
   "metadata": {},
   "outputs": [],
   "source": [
    "def place_bet(horse_id, bf_horse_id, amount):\n",
    "    driver.find_element(By.XPATH, f'//div[@id=\"live-stake-{horse_id}\"]').send_keys(f\"{amount}\")\n",
    "    driver.find_element(By.XPATH, f'//div[@data-automation-id=\"live-racing-outcome-{horse_id}\"]').click()\n",
    "    driver.find_element(By.XPATH, f'//div[@data-automation-id=\"live-racing-outcome-{horse_id}\"]').click()\n",
    "    \n",
    "    driver_bf.find_element(By.XPATH, f'//td[@bet-selection-id=\"{bf_horse_id}\"]').click()\n",
    "    driver_bf.find_element(By.XPATH, f'//input[@class=\"betslip-size-input\"]').send_keys(f\"{amount}\")\n",
    "    driver_bf.find_element(By.XPATH, f'//button[@type=\"submit\"]').click()\n",
    "    \n",
    "    print(f\"Bet placed: {horse_id, amount}\")\n",
    "    print(f\"Bet placed: {bf_horse_id, amount}\")\n",
    "    "
   ]
  },
  {
   "cell_type": "code",
   "execution_count": null,
   "id": "bc6d7750-6719-421b-b1ec-c1b27b161c66",
   "metadata": {},
   "outputs": [],
   "source": [
    "\n"
   ]
  },
  {
   "cell_type": "markdown",
   "id": "11de71d2-68f8-488e-ac17-92686ade43c7",
   "metadata": {},
   "source": [
    "## Get Next Race Sportsbet"
   ]
  },
  {
   "cell_type": "code",
   "execution_count": 22,
   "id": "b42fd4b5-1f63-4104-8de3-407d89b1bb00",
   "metadata": {},
   "outputs": [],
   "source": [
    "## GET NEXT RACE\n",
    "def get_next_race():\n",
    "    sports_response = requests.get('https://www.sportsbet.com.au/apigw/sportsbook-racing/Sportsbook/Racing/NextEvents?racingFilters=HR_DOMESTIC&groupByFilters=true')\n",
    "#https://www.sportsbet.com.au/apigw/sportsbook-racing/Sportsbook/Racing/NextEvents?racingFilters=HR_DOMESTIC,HR_INTERNATIONAL,GH_DOMESTIC,GH_INTERNATIONAL,HA_DOMESTIC,HA_INTERNATIONAL&groupByFilters=true\n",
    "    sports_json = json.loads(sports_response.text)\n",
    "    #print('Next Race:', json.dumps(sports_json[0], indent =4))   \n",
    "    sports_json = sports_json[0]\n",
    "    \n",
    "    next_race = sports_json[\"displayName\"]\n",
    "    name = sports_json[\"competitionName\"]\n",
    "    num =sports_json[\"raceNumber\"]\n",
    "    sb_id = sports_json[\"id\"]\n",
    "    \n",
    "    print('Next Race:', json.dumps(next_race, indent =4))\n",
    "    \n",
    "    #selenium get next race\n",
    "    driver.get(f\"https://www.sportsbet.com.au/horse-racing/australia-nz/{name}/race-{num}-{sb_id}\")\n",
    "    #time.sleep(3)\n",
    "    return sb_id"
   ]
  },
  {
   "cell_type": "markdown",
   "id": "726708be-6804-4d3a-a089-51973a241b8a",
   "metadata": {},
   "source": [
    "## Get Next Race Betfair"
   ]
  },
  {
   "cell_type": "code",
   "execution_count": 23,
   "id": "67820153-c78c-4e46-b0f6-83b6e90db90b",
   "metadata": {},
   "outputs": [],
   "source": [
    "def bf_get_next_race():\n",
    "    nextrace_response = requests.get(\"https://production.ausnav.online/nav?type=screen&name=racing&next2jump=true&today=true\")\n",
    "    nextrace_response = json.loads(nextrace_response.text)\n",
    "    #print(json.dumps(nextrace_response, indent = 4))\n",
    "    betfair_response = nextrace_response[\"nextToJump\"]\n",
    "\n",
    "    betfair_races = []\n",
    "\n",
    "    for i in betfair_response:\n",
    "        res = betfair_response[i]\n",
    "        for j in res:\n",
    "            r = res[j][0]\n",
    "            if (r[\"racingType\"] == \"Thoroughbred Racing\") and ((r[\"countryCode\"] == \"AU\" or r[\"countryCode\"] == \"NZ\")) and (r[\"status\"] == \"OPEN\"):\n",
    "                betfair_races.append(r)\n",
    "                #print(json.dumps(r, indent = 4))\n",
    "\n",
    "    betfair_race_id = betfair_races[0][\"marketId\"]\n",
    "    driver_bf.get(f\"https://www.betfair.com.au/exchange/plus/horse-racing/market/{betfair_race_id}\")\n",
    "    return betfair_race_id"
   ]
  },
  {
   "cell_type": "code",
   "execution_count": null,
   "id": "08fbeae2-58aa-47f9-a384-79f6f495043c",
   "metadata": {},
   "outputs": [],
   "source": []
  },
  {
   "cell_type": "markdown",
   "id": "b9399a0e-1e87-4a7a-ac9f-709e16f99fda",
   "metadata": {},
   "source": [
    "## Get Prices"
   ]
  },
  {
   "cell_type": "code",
   "execution_count": 29,
   "id": "a954debe-59f6-41a5-a5b8-9a97bc8668e0",
   "metadata": {},
   "outputs": [],
   "source": [
    "def compare_prices(selections, betfair_prices):\n",
    "    print(\"SportsBet Prices\")\n",
    "    for idx, i in enumerate(selections):\n",
    "        #horse details\n",
    "        print(i[\"name\"])\n",
    "        horse_id = i[\"id\"]\n",
    "        print(horse_id)\n",
    "        bf_horse_id = betfair_prices[\"selectionId\"]\n",
    "        \n",
    "        #get prices\n",
    "        lay_price = betfair_prices[0][\"exchange\"][\"availableToLay\"][0][\"price\"]      \n",
    "        win_price = i[\"betPrice\"]\n",
    "        \n",
    "        #compare prices\n",
    "        if win_price != \"not defined\" and i[\"statistics\"][\"overview\"] != \"Scratched.\":\n",
    "            #win price is greater than 105% of the lay\n",
    "            if win_price >= (lay_price*1.05):\n",
    "                place_bet(horse_id, bf_horse_id, 5)\n",
    "            print(\"Win Price: \", win_price, \"\\n\")\n",
    "\n",
    "        else:\n",
    "            print(\"Scratched \\n\")\n"
   ]
  },
  {
   "cell_type": "code",
   "execution_count": 30,
   "id": "69c725ba-a00b-4df7-90fe-b433e12f97a4",
   "metadata": {},
   "outputs": [],
   "source": [
    "def get_prices_next_race():\n",
    "    ## Get id of next race\n",
    "    sb_id = get_next_race()\n",
    "    bf_id = bf_get_next_race()\n",
    "    \n",
    "    \n",
    "    ## Get prices of next race\n",
    "    response = requests.get(f\"https://www.sportsbet.com.au/apigw/sportsbook-racing/Sportsbook/Racing/Events/{sb_id}/RacecardWithContext?classId=1\")\n",
    "    card_json = json.loads(response.text)\n",
    "    full_card = card_json.get(\"racecardEvent\")\n",
    "                #selections = market[0][\"selections\"]\n",
    "                #print('Next Race Card:', json.dumps(selections, indent=4))\n",
    "    selections = full_card[\"markets\"][0][\"selections\"]\n",
    "\n",
    "    ### BETFAIR\n",
    "    prices_response = requests.get(f\"https://ero.betfair.com.au/www/sports/exchange/readonly/v1/bymarket?_ak=nzIFcwyWhrlwYMrh&alt=json&currencyCode=AUD&locale=en_GB&marketIds={bf_id}&rollupLimit=25&rollupModel=STAKE&types=MARKET_STATE,RUNNER_STATE,RUNNER_EXCHANGE_PRICES_BEST\")\n",
    "    betfair_prices = json.loads(prices_response.text)\n",
    "    betfair_prices = betfair_prices[\"eventTypes\"][0][\"eventNodes\"][0][\"marketNodes\"][0][\"runners\"]\n",
    "    \n",
    "    \n",
    "    ### remove scratched \n",
    "    for idx, i in enumerate(selections):\n",
    "        if selections[idx][\"statusCode\"] == \"S\":\n",
    "            selections.remove(selections[idx])\n",
    "\n",
    "        try:\n",
    "            selections[idx][\"betPrice\"] = selections[idx][\"prices\"][2][\"winPrice\"]\n",
    "        except:\n",
    "            try:\n",
    "                selections[idx][\"betPrice\"] = selections[idx][\"prices\"][0][\"winPrice\"]\n",
    "            except:\n",
    "                 selections[idx][\"betPrice\"] = \"Null\"\n",
    "                \n",
    "        \n",
    "        \n",
    "    return selections, betfair_prices"
   ]
  },
  {
   "cell_type": "markdown",
   "id": "a73af74e-0bfb-4cb5-9dcc-c2f631e09998",
   "metadata": {},
   "source": [
    "## Run Bets"
   ]
  },
  {
   "cell_type": "code",
   "execution_count": null,
   "id": "bfe22680-5e24-48af-ba54-be55e8f9da7e",
   "metadata": {},
   "outputs": [],
   "source": [
    "while True:\n",
    "    selections, betfair_prices = get_prices_next_race()\n",
    "    print (len(selections))\n",
    "    print (len(betfair_prices))\n",
    "    #check current part of race - clock, live, closed, interim\n",
    "    is_live = driver.find_element(By.XPATH, f'//div[@data-automation-id=\"racecard-clock\"]//span').text\n",
    "\n",
    "    if is_live == \"LIVE\" and (betfair_prices[i][\"status\"] == \"ACTIVE\"):\n",
    "        while is_live == \"LIVE\" and (betfair_prices[i][\"status\"] == \"ACTIVE\"):\n",
    "            if len(selections) == len(betfair_prices):\n",
    "                compare_prices(selections, betfair_prices)\n",
    "                time.sleep(3)\n",
    "\n",
    "    else:\n",
    "        print(is_live)\n"
   ]
  },
  {
   "cell_type": "markdown",
   "id": "021ac807-28dc-493d-85f8-02a1fbf3acea",
   "metadata": {},
   "source": [
    "## Get Account Details"
   ]
  },
  {
   "cell_type": "code",
   "execution_count": null,
   "id": "71e899e3-b08c-4192-ba1a-bfabbe9a3c43",
   "metadata": {},
   "outputs": [],
   "source": []
  },
  {
   "cell_type": "code",
   "execution_count": 184,
   "id": "923002e2-e9c7-47b8-88c1-57235e049ee4",
   "metadata": {},
   "outputs": [],
   "source": []
  },
  {
   "cell_type": "code",
   "execution_count": null,
   "id": "c7b4c7b3-e255-499e-b99b-ad6458b615e4",
   "metadata": {},
   "outputs": [],
   "source": []
  },
  {
   "cell_type": "code",
   "execution_count": null,
   "id": "fd858ba3-00bb-4c7a-86c6-40d1d6890ec2",
   "metadata": {},
   "outputs": [],
   "source": []
  },
  {
   "cell_type": "code",
   "execution_count": null,
   "id": "d06b075f-772c-4a26-890d-d583acfa010a",
   "metadata": {},
   "outputs": [],
   "source": []
  },
  {
   "cell_type": "code",
   "execution_count": null,
   "id": "3c6678a6-7294-4292-9565-0a620030f6e7",
   "metadata": {},
   "outputs": [],
   "source": []
  }
 ],
 "metadata": {
  "kernelspec": {
   "display_name": "Python 3 (ipykernel)",
   "language": "python",
   "name": "python3"
  },
  "language_info": {
   "codemirror_mode": {
    "name": "ipython",
    "version": 3
   },
   "file_extension": ".py",
   "mimetype": "text/x-python",
   "name": "python",
   "nbconvert_exporter": "python",
   "pygments_lexer": "ipython3",
   "version": "3.7.11"
  }
 },
 "nbformat": 4,
 "nbformat_minor": 5
}
